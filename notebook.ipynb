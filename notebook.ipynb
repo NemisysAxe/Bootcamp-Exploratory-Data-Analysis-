{
  "cells": [
    {
      "cell_type": "markdown",
      "metadata": {
        "id": "view-in-github",
        "colab_type": "text"
      },
      "source": [
        "<a href=\"https://colab.research.google.com/github/NemisysAxe/Bootcamp-Exploratory-Data-Analysis-/blob/main/notebook.ipynb\" target=\"_parent\"><img src=\"https://colab.research.google.com/assets/colab-badge.svg\" alt=\"Open In Colab\"/></a>"
      ]
    },
    {
      "cell_type": "markdown",
      "id": "novel-british",
      "metadata": {
        "id": "novel-british"
      },
      "source": [
        "Bootcamp Exploratory data analysis\n",
        "\n",
        "The data set consists of health and demographic data for the period 2014-2015, obtained from Global Health Observatory Data Repository.\n",
        "\n",
        "Questions\n",
        "\n",
        "1. Are there any missing values in the data set? What, if anything should be done about them if there are?\n",
        "\n",
        "2. Are there any other problems with the data? If so, fix them.\n",
        "\n",
        "3. Identify the country with the lowest % of their population under 15 and the one with the highest.\n",
        "\n",
        "4. Which region has the highest % of their population over 60?\n",
        "\n",
        "5. Does fertility decrease as income increases? Are there any countries that don’t seem to follow this relation?\n",
        "\n",
        "6. Which regions have the lowest literacy rates?\n",
        "\n",
        "7. Which regions have the lowest child mortality rates?\n",
        "\n",
        "8. What is the life expectancy across different regions? Create a box-and-whisker plot to investigate this. What can we conclude about life expectancy across different regions?\n",
        "\n",
        "9. How is life expectancy related to wealth across different regions? How is wealth related to fertility across different regions? Do these relationships hold for African countries?\n",
        "\n",
        "10. Create appropriate graphs to visually represent the relationship between literacy and life expectancy by region, and then for African countries. What can be concluded from the graphs? How confident can we be in the relationships represented here?\n",
        "\n",
        "\n",
        "\n",
        "\n",
        "\n"
      ]
    },
    {
      "cell_type": "markdown",
      "id": "material-peripheral",
      "metadata": {
        "id": "material-peripheral"
      },
      "source": [
        "#Exporting the csv file into collab. \n",
        "\n",
        "\n"
      ]
    },
    {
      "cell_type": "code",
      "execution_count": null,
      "id": "material-silly",
      "metadata": {
        "id": "material-silly",
        "colab": {
          "base_uri": "https://localhost:8080/",
          "height": 287
        },
        "outputId": "010bca70-129d-40bb-fbf2-6fa7e71681bf"
      },
      "outputs": [
        {
          "output_type": "execute_result",
          "data": {
            "text/plain": [
              "       Country                 Region  Population  Under15  Over60  \\\n",
              "0  Afghanistan  Eastern Mediterranean       29825    47.42    3.82   \n",
              "1      Albania                 Europe        3162    21.33   14.93   \n",
              "2      Algeria                 Africa       38482    27.42    7.17   \n",
              "3      Andorra                 Europe          78    15.20   22.86   \n",
              "4       Angola                 Africa       20821    47.58    3.84   \n",
              "\n",
              "   FertilityRate  LifeExpectancy  ChildMortality  CellularSubscribers  \\\n",
              "0           5.40              60            98.5                54.26   \n",
              "1           1.75              74            16.7                96.39   \n",
              "2           2.83              73            20.0                98.99   \n",
              "3            NaN              82             3.2                75.49   \n",
              "4           6.10              51           163.5                48.38   \n",
              "\n",
              "   LiteracyRate     GNI  PrimarySchoolEnrollmentMale  \\\n",
              "0           NaN  1140.0                          NaN   \n",
              "1           NaN  8820.0                          NaN   \n",
              "2           NaN  8310.0                         98.2   \n",
              "3           NaN     NaN                         78.4   \n",
              "4          70.1  5230.0                         93.1   \n",
              "\n",
              "   PrimarySchoolEnrollmentFemale  \n",
              "0                            NaN  \n",
              "1                            NaN  \n",
              "2                           96.4  \n",
              "3                           79.4  \n",
              "4                           78.2  "
            ],
            "text/html": [
              "\n",
              "  <div id=\"df-e9519b5e-76a8-467c-a758-107b6dbda984\">\n",
              "    <div class=\"colab-df-container\">\n",
              "      <div>\n",
              "<style scoped>\n",
              "    .dataframe tbody tr th:only-of-type {\n",
              "        vertical-align: middle;\n",
              "    }\n",
              "\n",
              "    .dataframe tbody tr th {\n",
              "        vertical-align: top;\n",
              "    }\n",
              "\n",
              "    .dataframe thead th {\n",
              "        text-align: right;\n",
              "    }\n",
              "</style>\n",
              "<table border=\"1\" class=\"dataframe\">\n",
              "  <thead>\n",
              "    <tr style=\"text-align: right;\">\n",
              "      <th></th>\n",
              "      <th>Country</th>\n",
              "      <th>Region</th>\n",
              "      <th>Population</th>\n",
              "      <th>Under15</th>\n",
              "      <th>Over60</th>\n",
              "      <th>FertilityRate</th>\n",
              "      <th>LifeExpectancy</th>\n",
              "      <th>ChildMortality</th>\n",
              "      <th>CellularSubscribers</th>\n",
              "      <th>LiteracyRate</th>\n",
              "      <th>GNI</th>\n",
              "      <th>PrimarySchoolEnrollmentMale</th>\n",
              "      <th>PrimarySchoolEnrollmentFemale</th>\n",
              "    </tr>\n",
              "  </thead>\n",
              "  <tbody>\n",
              "    <tr>\n",
              "      <th>0</th>\n",
              "      <td>Afghanistan</td>\n",
              "      <td>Eastern Mediterranean</td>\n",
              "      <td>29825</td>\n",
              "      <td>47.42</td>\n",
              "      <td>3.82</td>\n",
              "      <td>5.40</td>\n",
              "      <td>60</td>\n",
              "      <td>98.5</td>\n",
              "      <td>54.26</td>\n",
              "      <td>NaN</td>\n",
              "      <td>1140.0</td>\n",
              "      <td>NaN</td>\n",
              "      <td>NaN</td>\n",
              "    </tr>\n",
              "    <tr>\n",
              "      <th>1</th>\n",
              "      <td>Albania</td>\n",
              "      <td>Europe</td>\n",
              "      <td>3162</td>\n",
              "      <td>21.33</td>\n",
              "      <td>14.93</td>\n",
              "      <td>1.75</td>\n",
              "      <td>74</td>\n",
              "      <td>16.7</td>\n",
              "      <td>96.39</td>\n",
              "      <td>NaN</td>\n",
              "      <td>8820.0</td>\n",
              "      <td>NaN</td>\n",
              "      <td>NaN</td>\n",
              "    </tr>\n",
              "    <tr>\n",
              "      <th>2</th>\n",
              "      <td>Algeria</td>\n",
              "      <td>Africa</td>\n",
              "      <td>38482</td>\n",
              "      <td>27.42</td>\n",
              "      <td>7.17</td>\n",
              "      <td>2.83</td>\n",
              "      <td>73</td>\n",
              "      <td>20.0</td>\n",
              "      <td>98.99</td>\n",
              "      <td>NaN</td>\n",
              "      <td>8310.0</td>\n",
              "      <td>98.2</td>\n",
              "      <td>96.4</td>\n",
              "    </tr>\n",
              "    <tr>\n",
              "      <th>3</th>\n",
              "      <td>Andorra</td>\n",
              "      <td>Europe</td>\n",
              "      <td>78</td>\n",
              "      <td>15.20</td>\n",
              "      <td>22.86</td>\n",
              "      <td>NaN</td>\n",
              "      <td>82</td>\n",
              "      <td>3.2</td>\n",
              "      <td>75.49</td>\n",
              "      <td>NaN</td>\n",
              "      <td>NaN</td>\n",
              "      <td>78.4</td>\n",
              "      <td>79.4</td>\n",
              "    </tr>\n",
              "    <tr>\n",
              "      <th>4</th>\n",
              "      <td>Angola</td>\n",
              "      <td>Africa</td>\n",
              "      <td>20821</td>\n",
              "      <td>47.58</td>\n",
              "      <td>3.84</td>\n",
              "      <td>6.10</td>\n",
              "      <td>51</td>\n",
              "      <td>163.5</td>\n",
              "      <td>48.38</td>\n",
              "      <td>70.1</td>\n",
              "      <td>5230.0</td>\n",
              "      <td>93.1</td>\n",
              "      <td>78.2</td>\n",
              "    </tr>\n",
              "  </tbody>\n",
              "</table>\n",
              "</div>\n",
              "      <button class=\"colab-df-convert\" onclick=\"convertToInteractive('df-e9519b5e-76a8-467c-a758-107b6dbda984')\"\n",
              "              title=\"Convert this dataframe to an interactive table.\"\n",
              "              style=\"display:none;\">\n",
              "        \n",
              "  <svg xmlns=\"http://www.w3.org/2000/svg\" height=\"24px\"viewBox=\"0 0 24 24\"\n",
              "       width=\"24px\">\n",
              "    <path d=\"M0 0h24v24H0V0z\" fill=\"none\"/>\n",
              "    <path d=\"M18.56 5.44l.94 2.06.94-2.06 2.06-.94-2.06-.94-.94-2.06-.94 2.06-2.06.94zm-11 1L8.5 8.5l.94-2.06 2.06-.94-2.06-.94L8.5 2.5l-.94 2.06-2.06.94zm10 10l.94 2.06.94-2.06 2.06-.94-2.06-.94-.94-2.06-.94 2.06-2.06.94z\"/><path d=\"M17.41 7.96l-1.37-1.37c-.4-.4-.92-.59-1.43-.59-.52 0-1.04.2-1.43.59L10.3 9.45l-7.72 7.72c-.78.78-.78 2.05 0 2.83L4 21.41c.39.39.9.59 1.41.59.51 0 1.02-.2 1.41-.59l7.78-7.78 2.81-2.81c.8-.78.8-2.07 0-2.86zM5.41 20L4 18.59l7.72-7.72 1.47 1.35L5.41 20z\"/>\n",
              "  </svg>\n",
              "      </button>\n",
              "      \n",
              "  <style>\n",
              "    .colab-df-container {\n",
              "      display:flex;\n",
              "      flex-wrap:wrap;\n",
              "      gap: 12px;\n",
              "    }\n",
              "\n",
              "    .colab-df-convert {\n",
              "      background-color: #E8F0FE;\n",
              "      border: none;\n",
              "      border-radius: 50%;\n",
              "      cursor: pointer;\n",
              "      display: none;\n",
              "      fill: #1967D2;\n",
              "      height: 32px;\n",
              "      padding: 0 0 0 0;\n",
              "      width: 32px;\n",
              "    }\n",
              "\n",
              "    .colab-df-convert:hover {\n",
              "      background-color: #E2EBFA;\n",
              "      box-shadow: 0px 1px 2px rgba(60, 64, 67, 0.3), 0px 1px 3px 1px rgba(60, 64, 67, 0.15);\n",
              "      fill: #174EA6;\n",
              "    }\n",
              "\n",
              "    [theme=dark] .colab-df-convert {\n",
              "      background-color: #3B4455;\n",
              "      fill: #D2E3FC;\n",
              "    }\n",
              "\n",
              "    [theme=dark] .colab-df-convert:hover {\n",
              "      background-color: #434B5C;\n",
              "      box-shadow: 0px 1px 3px 1px rgba(0, 0, 0, 0.15);\n",
              "      filter: drop-shadow(0px 1px 2px rgba(0, 0, 0, 0.3));\n",
              "      fill: #FFFFFF;\n",
              "    }\n",
              "  </style>\n",
              "\n",
              "      <script>\n",
              "        const buttonEl =\n",
              "          document.querySelector('#df-e9519b5e-76a8-467c-a758-107b6dbda984 button.colab-df-convert');\n",
              "        buttonEl.style.display =\n",
              "          google.colab.kernel.accessAllowed ? 'block' : 'none';\n",
              "\n",
              "        async function convertToInteractive(key) {\n",
              "          const element = document.querySelector('#df-e9519b5e-76a8-467c-a758-107b6dbda984');\n",
              "          const dataTable =\n",
              "            await google.colab.kernel.invokeFunction('convertToInteractive',\n",
              "                                                     [key], {});\n",
              "          if (!dataTable) return;\n",
              "\n",
              "          const docLinkHtml = 'Like what you see? Visit the ' +\n",
              "            '<a target=\"_blank\" href=https://colab.research.google.com/notebooks/data_table.ipynb>data table notebook</a>'\n",
              "            + ' to learn more about interactive tables.';\n",
              "          element.innerHTML = '';\n",
              "          dataTable['output_type'] = 'display_data';\n",
              "          await google.colab.output.renderOutput(dataTable, element);\n",
              "          const docLink = document.createElement('div');\n",
              "          docLink.innerHTML = docLinkHtml;\n",
              "          element.appendChild(docLink);\n",
              "        }\n",
              "      </script>\n",
              "    </div>\n",
              "  </div>\n",
              "  "
            ]
          },
          "metadata": {},
          "execution_count": 6
        }
      ],
      "source": [
        "import pandas as pd\n",
        "\n",
        "url = 'https://raw.githubusercontent.com/NemisysAxe/Bootcamp-Exploratory-Data-Analysis-/main/data.csv'\n",
        "\n",
        "df1 = pd.read_csv(url)\n",
        "df1.head()\n",
        "\n"
      ]
    },
    {
      "cell_type": "markdown",
      "source": [
        ""
      ],
      "metadata": {
        "id": "uFq4CFbHyWxI"
      },
      "id": "uFq4CFbHyWxI"
    },
    {
      "cell_type": "code",
      "source": [
        "import pandas as pd\n",
        "\n",
        "url = 'https://raw.githubusercontent.com/NemisysAxe/Bootcamp-Exploratory-Data-Analysis-/main/data.csv'\n",
        "\n",
        "df1 = pd.read_csv(url)\n",
        "\n",
        "df1.shape"
      ],
      "metadata": {
        "id": "xylLLjYPyVEu"
      },
      "id": "xylLLjYPyVEu",
      "execution_count": null,
      "outputs": []
    },
    {
      "cell_type": "markdown",
      "id": "cheap-navigation",
      "metadata": {
        "id": "cheap-navigation"
      },
      "source": [
        "# 1. Yes there are values missing and the following can be done to handle the missing values. \n",
        "\n",
        "\n",
        "*   Either fill the null(missing) values with some values (like statistical findings such as an mean or median)\n",
        "*   Drop such rows\n",
        "*   Either replace them with zero (0)\n",
        "\n",
        "\n",
        "The workings below diplays how I found that the dataframe has null values.\n",
        "\n",
        "\n",
        "\n"
      ]
    },
    {
      "cell_type": "code",
      "execution_count": null,
      "id": "grateful-blend",
      "metadata": {
        "id": "grateful-blend",
        "colab": {
          "base_uri": "https://localhost:8080/",
          "height": 487
        },
        "outputId": "fc6d824d-ab46-4271-d8a5-2c6f97be45d1"
      },
      "outputs": [
        {
          "output_type": "execute_result",
          "data": {
            "text/plain": [
              "     Country  Region  Population  Under15  Over60  FertilityRate  \\\n",
              "0      False   False       False    False   False          False   \n",
              "1      False   False       False    False   False          False   \n",
              "2      False   False       False    False   False          False   \n",
              "3      False   False       False    False   False           True   \n",
              "4      False   False       False    False   False          False   \n",
              "..       ...     ...         ...      ...     ...            ...   \n",
              "189    False   False       False    False   False          False   \n",
              "190    False   False       False    False   False          False   \n",
              "191    False   False       False    False   False          False   \n",
              "192    False   False       False    False   False          False   \n",
              "193    False   False       False    False   False          False   \n",
              "\n",
              "     LifeExpectancy  ChildMortality  CellularSubscribers  LiteracyRate    GNI  \\\n",
              "0             False           False                False          True  False   \n",
              "1             False           False                False          True  False   \n",
              "2             False           False                False          True  False   \n",
              "3             False           False                False          True   True   \n",
              "4             False           False                False         False  False   \n",
              "..              ...             ...                  ...           ...    ...   \n",
              "189           False           False                False          True  False   \n",
              "190           False           False                False         False  False   \n",
              "191           False           False                False         False  False   \n",
              "192           False           False                False         False  False   \n",
              "193           False           False                False         False   True   \n",
              "\n",
              "     PrimarySchoolEnrollmentMale  PrimarySchoolEnrollmentFemale  \n",
              "0                           True                           True  \n",
              "1                           True                           True  \n",
              "2                          False                          False  \n",
              "3                          False                          False  \n",
              "4                          False                          False  \n",
              "..                           ...                            ...  \n",
              "189                        False                          False  \n",
              "190                         True                           True  \n",
              "191                        False                          False  \n",
              "192                        False                          False  \n",
              "193                         True                           True  \n",
              "\n",
              "[194 rows x 13 columns]"
            ],
            "text/html": [
              "\n",
              "  <div id=\"df-e2a07b22-80f7-44fd-9a40-b324b73b87ad\">\n",
              "    <div class=\"colab-df-container\">\n",
              "      <div>\n",
              "<style scoped>\n",
              "    .dataframe tbody tr th:only-of-type {\n",
              "        vertical-align: middle;\n",
              "    }\n",
              "\n",
              "    .dataframe tbody tr th {\n",
              "        vertical-align: top;\n",
              "    }\n",
              "\n",
              "    .dataframe thead th {\n",
              "        text-align: right;\n",
              "    }\n",
              "</style>\n",
              "<table border=\"1\" class=\"dataframe\">\n",
              "  <thead>\n",
              "    <tr style=\"text-align: right;\">\n",
              "      <th></th>\n",
              "      <th>Country</th>\n",
              "      <th>Region</th>\n",
              "      <th>Population</th>\n",
              "      <th>Under15</th>\n",
              "      <th>Over60</th>\n",
              "      <th>FertilityRate</th>\n",
              "      <th>LifeExpectancy</th>\n",
              "      <th>ChildMortality</th>\n",
              "      <th>CellularSubscribers</th>\n",
              "      <th>LiteracyRate</th>\n",
              "      <th>GNI</th>\n",
              "      <th>PrimarySchoolEnrollmentMale</th>\n",
              "      <th>PrimarySchoolEnrollmentFemale</th>\n",
              "    </tr>\n",
              "  </thead>\n",
              "  <tbody>\n",
              "    <tr>\n",
              "      <th>0</th>\n",
              "      <td>False</td>\n",
              "      <td>False</td>\n",
              "      <td>False</td>\n",
              "      <td>False</td>\n",
              "      <td>False</td>\n",
              "      <td>False</td>\n",
              "      <td>False</td>\n",
              "      <td>False</td>\n",
              "      <td>False</td>\n",
              "      <td>True</td>\n",
              "      <td>False</td>\n",
              "      <td>True</td>\n",
              "      <td>True</td>\n",
              "    </tr>\n",
              "    <tr>\n",
              "      <th>1</th>\n",
              "      <td>False</td>\n",
              "      <td>False</td>\n",
              "      <td>False</td>\n",
              "      <td>False</td>\n",
              "      <td>False</td>\n",
              "      <td>False</td>\n",
              "      <td>False</td>\n",
              "      <td>False</td>\n",
              "      <td>False</td>\n",
              "      <td>True</td>\n",
              "      <td>False</td>\n",
              "      <td>True</td>\n",
              "      <td>True</td>\n",
              "    </tr>\n",
              "    <tr>\n",
              "      <th>2</th>\n",
              "      <td>False</td>\n",
              "      <td>False</td>\n",
              "      <td>False</td>\n",
              "      <td>False</td>\n",
              "      <td>False</td>\n",
              "      <td>False</td>\n",
              "      <td>False</td>\n",
              "      <td>False</td>\n",
              "      <td>False</td>\n",
              "      <td>True</td>\n",
              "      <td>False</td>\n",
              "      <td>False</td>\n",
              "      <td>False</td>\n",
              "    </tr>\n",
              "    <tr>\n",
              "      <th>3</th>\n",
              "      <td>False</td>\n",
              "      <td>False</td>\n",
              "      <td>False</td>\n",
              "      <td>False</td>\n",
              "      <td>False</td>\n",
              "      <td>True</td>\n",
              "      <td>False</td>\n",
              "      <td>False</td>\n",
              "      <td>False</td>\n",
              "      <td>True</td>\n",
              "      <td>True</td>\n",
              "      <td>False</td>\n",
              "      <td>False</td>\n",
              "    </tr>\n",
              "    <tr>\n",
              "      <th>4</th>\n",
              "      <td>False</td>\n",
              "      <td>False</td>\n",
              "      <td>False</td>\n",
              "      <td>False</td>\n",
              "      <td>False</td>\n",
              "      <td>False</td>\n",
              "      <td>False</td>\n",
              "      <td>False</td>\n",
              "      <td>False</td>\n",
              "      <td>False</td>\n",
              "      <td>False</td>\n",
              "      <td>False</td>\n",
              "      <td>False</td>\n",
              "    </tr>\n",
              "    <tr>\n",
              "      <th>...</th>\n",
              "      <td>...</td>\n",
              "      <td>...</td>\n",
              "      <td>...</td>\n",
              "      <td>...</td>\n",
              "      <td>...</td>\n",
              "      <td>...</td>\n",
              "      <td>...</td>\n",
              "      <td>...</td>\n",
              "      <td>...</td>\n",
              "      <td>...</td>\n",
              "      <td>...</td>\n",
              "      <td>...</td>\n",
              "      <td>...</td>\n",
              "    </tr>\n",
              "    <tr>\n",
              "      <th>189</th>\n",
              "      <td>False</td>\n",
              "      <td>False</td>\n",
              "      <td>False</td>\n",
              "      <td>False</td>\n",
              "      <td>False</td>\n",
              "      <td>False</td>\n",
              "      <td>False</td>\n",
              "      <td>False</td>\n",
              "      <td>False</td>\n",
              "      <td>True</td>\n",
              "      <td>False</td>\n",
              "      <td>False</td>\n",
              "      <td>False</td>\n",
              "    </tr>\n",
              "    <tr>\n",
              "      <th>190</th>\n",
              "      <td>False</td>\n",
              "      <td>False</td>\n",
              "      <td>False</td>\n",
              "      <td>False</td>\n",
              "      <td>False</td>\n",
              "      <td>False</td>\n",
              "      <td>False</td>\n",
              "      <td>False</td>\n",
              "      <td>False</td>\n",
              "      <td>False</td>\n",
              "      <td>False</td>\n",
              "      <td>True</td>\n",
              "      <td>True</td>\n",
              "    </tr>\n",
              "    <tr>\n",
              "      <th>191</th>\n",
              "      <td>False</td>\n",
              "      <td>False</td>\n",
              "      <td>False</td>\n",
              "      <td>False</td>\n",
              "      <td>False</td>\n",
              "      <td>False</td>\n",
              "      <td>False</td>\n",
              "      <td>False</td>\n",
              "      <td>False</td>\n",
              "      <td>False</td>\n",
              "      <td>False</td>\n",
              "      <td>False</td>\n",
              "      <td>False</td>\n",
              "    </tr>\n",
              "    <tr>\n",
              "      <th>192</th>\n",
              "      <td>False</td>\n",
              "      <td>False</td>\n",
              "      <td>False</td>\n",
              "      <td>False</td>\n",
              "      <td>False</td>\n",
              "      <td>False</td>\n",
              "      <td>False</td>\n",
              "      <td>False</td>\n",
              "      <td>False</td>\n",
              "      <td>False</td>\n",
              "      <td>False</td>\n",
              "      <td>False</td>\n",
              "      <td>False</td>\n",
              "    </tr>\n",
              "    <tr>\n",
              "      <th>193</th>\n",
              "      <td>False</td>\n",
              "      <td>False</td>\n",
              "      <td>False</td>\n",
              "      <td>False</td>\n",
              "      <td>False</td>\n",
              "      <td>False</td>\n",
              "      <td>False</td>\n",
              "      <td>False</td>\n",
              "      <td>False</td>\n",
              "      <td>False</td>\n",
              "      <td>True</td>\n",
              "      <td>True</td>\n",
              "      <td>True</td>\n",
              "    </tr>\n",
              "  </tbody>\n",
              "</table>\n",
              "<p>194 rows × 13 columns</p>\n",
              "</div>\n",
              "      <button class=\"colab-df-convert\" onclick=\"convertToInteractive('df-e2a07b22-80f7-44fd-9a40-b324b73b87ad')\"\n",
              "              title=\"Convert this dataframe to an interactive table.\"\n",
              "              style=\"display:none;\">\n",
              "        \n",
              "  <svg xmlns=\"http://www.w3.org/2000/svg\" height=\"24px\"viewBox=\"0 0 24 24\"\n",
              "       width=\"24px\">\n",
              "    <path d=\"M0 0h24v24H0V0z\" fill=\"none\"/>\n",
              "    <path d=\"M18.56 5.44l.94 2.06.94-2.06 2.06-.94-2.06-.94-.94-2.06-.94 2.06-2.06.94zm-11 1L8.5 8.5l.94-2.06 2.06-.94-2.06-.94L8.5 2.5l-.94 2.06-2.06.94zm10 10l.94 2.06.94-2.06 2.06-.94-2.06-.94-.94-2.06-.94 2.06-2.06.94z\"/><path d=\"M17.41 7.96l-1.37-1.37c-.4-.4-.92-.59-1.43-.59-.52 0-1.04.2-1.43.59L10.3 9.45l-7.72 7.72c-.78.78-.78 2.05 0 2.83L4 21.41c.39.39.9.59 1.41.59.51 0 1.02-.2 1.41-.59l7.78-7.78 2.81-2.81c.8-.78.8-2.07 0-2.86zM5.41 20L4 18.59l7.72-7.72 1.47 1.35L5.41 20z\"/>\n",
              "  </svg>\n",
              "      </button>\n",
              "      \n",
              "  <style>\n",
              "    .colab-df-container {\n",
              "      display:flex;\n",
              "      flex-wrap:wrap;\n",
              "      gap: 12px;\n",
              "    }\n",
              "\n",
              "    .colab-df-convert {\n",
              "      background-color: #E8F0FE;\n",
              "      border: none;\n",
              "      border-radius: 50%;\n",
              "      cursor: pointer;\n",
              "      display: none;\n",
              "      fill: #1967D2;\n",
              "      height: 32px;\n",
              "      padding: 0 0 0 0;\n",
              "      width: 32px;\n",
              "    }\n",
              "\n",
              "    .colab-df-convert:hover {\n",
              "      background-color: #E2EBFA;\n",
              "      box-shadow: 0px 1px 2px rgba(60, 64, 67, 0.3), 0px 1px 3px 1px rgba(60, 64, 67, 0.15);\n",
              "      fill: #174EA6;\n",
              "    }\n",
              "\n",
              "    [theme=dark] .colab-df-convert {\n",
              "      background-color: #3B4455;\n",
              "      fill: #D2E3FC;\n",
              "    }\n",
              "\n",
              "    [theme=dark] .colab-df-convert:hover {\n",
              "      background-color: #434B5C;\n",
              "      box-shadow: 0px 1px 3px 1px rgba(0, 0, 0, 0.15);\n",
              "      filter: drop-shadow(0px 1px 2px rgba(0, 0, 0, 0.3));\n",
              "      fill: #FFFFFF;\n",
              "    }\n",
              "  </style>\n",
              "\n",
              "      <script>\n",
              "        const buttonEl =\n",
              "          document.querySelector('#df-e2a07b22-80f7-44fd-9a40-b324b73b87ad button.colab-df-convert');\n",
              "        buttonEl.style.display =\n",
              "          google.colab.kernel.accessAllowed ? 'block' : 'none';\n",
              "\n",
              "        async function convertToInteractive(key) {\n",
              "          const element = document.querySelector('#df-e2a07b22-80f7-44fd-9a40-b324b73b87ad');\n",
              "          const dataTable =\n",
              "            await google.colab.kernel.invokeFunction('convertToInteractive',\n",
              "                                                     [key], {});\n",
              "          if (!dataTable) return;\n",
              "\n",
              "          const docLinkHtml = 'Like what you see? Visit the ' +\n",
              "            '<a target=\"_blank\" href=https://colab.research.google.com/notebooks/data_table.ipynb>data table notebook</a>'\n",
              "            + ' to learn more about interactive tables.';\n",
              "          element.innerHTML = '';\n",
              "          dataTable['output_type'] = 'display_data';\n",
              "          await google.colab.output.renderOutput(dataTable, element);\n",
              "          const docLink = document.createElement('div');\n",
              "          docLink.innerHTML = docLinkHtml;\n",
              "          element.appendChild(docLink);\n",
              "        }\n",
              "      </script>\n",
              "    </div>\n",
              "  </div>\n",
              "  "
            ]
          },
          "metadata": {},
          "execution_count": 3
        }
      ],
      "source": [
        "import pandas as pd\n",
        "url = 'https://raw.githubusercontent.com/NemisysAxe/Bootcamp-Exploratory-Data-Analysis-/main/data.csv'\n",
        "\n",
        "df1 = pd.read_csv(url)\n",
        "\n",
        "df1.isnull()\n"
      ]
    },
    {
      "cell_type": "markdown",
      "source": [
        "The following table displays a breakdown of the number of the null values within each category. "
      ],
      "metadata": {
        "id": "XBSImGAiMfIc"
      },
      "id": "XBSImGAiMfIc"
    },
    {
      "cell_type": "code",
      "source": [
        "df1.isnull().sum()"
      ],
      "metadata": {
        "colab": {
          "base_uri": "https://localhost:8080/"
        },
        "id": "GpvkjWRLMN6h",
        "outputId": "6ea9bd75-2889-4f69-b63c-79b11274832b"
      },
      "id": "GpvkjWRLMN6h",
      "execution_count": null,
      "outputs": [
        {
          "output_type": "execute_result",
          "data": {
            "text/plain": [
              "Country                           0\n",
              "Region                            0\n",
              "Population                        0\n",
              "Under15                           0\n",
              "Over60                            0\n",
              "FertilityRate                    11\n",
              "LifeExpectancy                    0\n",
              "ChildMortality                    0\n",
              "CellularSubscribers              10\n",
              "LiteracyRate                     91\n",
              "GNI                              32\n",
              "PrimarySchoolEnrollmentMale      93\n",
              "PrimarySchoolEnrollmentFemale    93\n",
              "dtype: int64"
            ]
          },
          "metadata": {},
          "execution_count": 8
        }
      ]
    },
    {
      "cell_type": "markdown",
      "source": [
        "The total number of null values within the dataframe."
      ],
      "metadata": {
        "id": "R3Fg_K83rWM2"
      },
      "id": "R3Fg_K83rWM2"
    },
    {
      "cell_type": "code",
      "source": [
        "df1.isnull().sum().sum()"
      ],
      "metadata": {
        "colab": {
          "base_uri": "https://localhost:8080/"
        },
        "id": "LmaajRqPpp_G",
        "outputId": "335023cd-2b11-484d-e1bf-86e993982ecc"
      },
      "id": "LmaajRqPpp_G",
      "execution_count": null,
      "outputs": [
        {
          "output_type": "execute_result",
          "data": {
            "text/plain": [
              "330"
            ]
          },
          "metadata": {},
          "execution_count": 5
        }
      ]
    },
    {
      "cell_type": "markdown",
      "id": "interpreted-hurricane",
      "metadata": {
        "id": "interpreted-hurricane"
      },
      "source": [
        "# 2. Other problems with the data \n",
        "\n",
        "\n",
        "\n",
        "*   The columns with missing values are columns that mostly contain floats, therefore the 'NaN' entry should be replaced with numeric values to match the other element types (floats). \n",
        "\n",
        "*   The null values can be replaced with the a specific value, zero, statistical values such as mean, median or random values. \n",
        "\n",
        "\n",
        "\n",
        "*   Below I created a new dataframe named df2, whereby the null values have been replaced with the mean of its respective column. This is done so that the data can be used in a more effective manner. \n",
        "\n",
        "\n",
        "\n",
        "\n",
        "\n",
        "\n",
        "\n",
        "\n"
      ]
    },
    {
      "cell_type": "code",
      "execution_count": null,
      "id": "actual-marketplace",
      "metadata": {
        "id": "actual-marketplace",
        "colab": {
          "base_uri": "https://localhost:8080/",
          "height": 628
        },
        "outputId": "e79c295c-1078-47c6-b741-de8a1fa0475a"
      },
      "outputs": [
        {
          "output_type": "stream",
          "name": "stderr",
          "text": [
            "/usr/local/lib/python3.7/dist-packages/ipykernel_launcher.py:1: FutureWarning: Dropping of nuisance columns in DataFrame reductions (with 'numeric_only=None') is deprecated; in a future version this will raise TypeError.  Select only valid columns before calling the reduction.\n",
            "  \"\"\"Entry point for launching an IPython kernel.\n"
          ]
        },
        {
          "output_type": "execute_result",
          "data": {
            "text/plain": [
              "                                Country                 Region  Population  \\\n",
              "0                           Afghanistan  Eastern Mediterranean       29825   \n",
              "1                               Albania                 Europe        3162   \n",
              "2                               Algeria                 Africa       38482   \n",
              "3                               Andorra                 Europe          78   \n",
              "4                                Angola                 Africa       20821   \n",
              "..                                  ...                    ...         ...   \n",
              "189  Venezuela (Bolivarian Republic of)               Americas       29955   \n",
              "190                            Viet Nam        Western Pacific       90796   \n",
              "191                               Yemen  Eastern Mediterranean       23852   \n",
              "192                              Zambia                 Africa       14075   \n",
              "193                            Zimbabwe                 Africa       13724   \n",
              "\n",
              "     Under15  Over60  FertilityRate  LifeExpectancy  ChildMortality  \\\n",
              "0      47.42    3.82       5.400000              60            98.5   \n",
              "1      21.33   14.93       1.750000              74            16.7   \n",
              "2      27.42    7.17       2.830000              73            20.0   \n",
              "3      15.20   22.86       2.940656              82             3.2   \n",
              "4      47.58    3.84       6.100000              51           163.5   \n",
              "..       ...     ...            ...             ...             ...   \n",
              "189    28.84    9.17       2.440000              75            15.3   \n",
              "190    22.87    9.32       1.790000              75            23.0   \n",
              "191    40.72    4.54       4.350000              64            60.0   \n",
              "192    46.73    3.95       5.770000              55            88.5   \n",
              "193    40.24    5.68       3.640000              54            89.8   \n",
              "\n",
              "     CellularSubscribers  LiteracyRate           GNI  \\\n",
              "0                  54.26      83.71068   1140.000000   \n",
              "1                  96.39      83.71068   8820.000000   \n",
              "2                  98.99      83.71068   8310.000000   \n",
              "3                  75.49      83.71068  13320.925926   \n",
              "4                  48.38      70.10000   5230.000000   \n",
              "..                   ...           ...           ...   \n",
              "189                97.78      83.71068  12430.000000   \n",
              "190               143.39      93.20000   3250.000000   \n",
              "191                47.05      63.90000   2170.000000   \n",
              "192                60.59      71.20000   1490.000000   \n",
              "193                72.13      92.20000  13320.925926   \n",
              "\n",
              "     PrimarySchoolEnrollmentMale  PrimarySchoolEnrollmentFemale  \n",
              "0                      90.850495                      89.632673  \n",
              "1                      90.850495                      89.632673  \n",
              "2                      98.200000                      96.400000  \n",
              "3                      78.400000                      79.400000  \n",
              "4                      93.100000                      78.200000  \n",
              "..                           ...                            ...  \n",
              "189                    94.700000                      95.100000  \n",
              "190                    90.850495                      89.632673  \n",
              "191                    85.500000                      70.500000  \n",
              "192                    91.400000                      93.900000  \n",
              "193                    90.850495                      89.632673  \n",
              "\n",
              "[194 rows x 13 columns]"
            ],
            "text/html": [
              "\n",
              "  <div id=\"df-ed6aa873-f89a-4366-b392-21d09e4a99d8\">\n",
              "    <div class=\"colab-df-container\">\n",
              "      <div>\n",
              "<style scoped>\n",
              "    .dataframe tbody tr th:only-of-type {\n",
              "        vertical-align: middle;\n",
              "    }\n",
              "\n",
              "    .dataframe tbody tr th {\n",
              "        vertical-align: top;\n",
              "    }\n",
              "\n",
              "    .dataframe thead th {\n",
              "        text-align: right;\n",
              "    }\n",
              "</style>\n",
              "<table border=\"1\" class=\"dataframe\">\n",
              "  <thead>\n",
              "    <tr style=\"text-align: right;\">\n",
              "      <th></th>\n",
              "      <th>Country</th>\n",
              "      <th>Region</th>\n",
              "      <th>Population</th>\n",
              "      <th>Under15</th>\n",
              "      <th>Over60</th>\n",
              "      <th>FertilityRate</th>\n",
              "      <th>LifeExpectancy</th>\n",
              "      <th>ChildMortality</th>\n",
              "      <th>CellularSubscribers</th>\n",
              "      <th>LiteracyRate</th>\n",
              "      <th>GNI</th>\n",
              "      <th>PrimarySchoolEnrollmentMale</th>\n",
              "      <th>PrimarySchoolEnrollmentFemale</th>\n",
              "    </tr>\n",
              "  </thead>\n",
              "  <tbody>\n",
              "    <tr>\n",
              "      <th>0</th>\n",
              "      <td>Afghanistan</td>\n",
              "      <td>Eastern Mediterranean</td>\n",
              "      <td>29825</td>\n",
              "      <td>47.42</td>\n",
              "      <td>3.82</td>\n",
              "      <td>5.400000</td>\n",
              "      <td>60</td>\n",
              "      <td>98.5</td>\n",
              "      <td>54.26</td>\n",
              "      <td>83.71068</td>\n",
              "      <td>1140.000000</td>\n",
              "      <td>90.850495</td>\n",
              "      <td>89.632673</td>\n",
              "    </tr>\n",
              "    <tr>\n",
              "      <th>1</th>\n",
              "      <td>Albania</td>\n",
              "      <td>Europe</td>\n",
              "      <td>3162</td>\n",
              "      <td>21.33</td>\n",
              "      <td>14.93</td>\n",
              "      <td>1.750000</td>\n",
              "      <td>74</td>\n",
              "      <td>16.7</td>\n",
              "      <td>96.39</td>\n",
              "      <td>83.71068</td>\n",
              "      <td>8820.000000</td>\n",
              "      <td>90.850495</td>\n",
              "      <td>89.632673</td>\n",
              "    </tr>\n",
              "    <tr>\n",
              "      <th>2</th>\n",
              "      <td>Algeria</td>\n",
              "      <td>Africa</td>\n",
              "      <td>38482</td>\n",
              "      <td>27.42</td>\n",
              "      <td>7.17</td>\n",
              "      <td>2.830000</td>\n",
              "      <td>73</td>\n",
              "      <td>20.0</td>\n",
              "      <td>98.99</td>\n",
              "      <td>83.71068</td>\n",
              "      <td>8310.000000</td>\n",
              "      <td>98.200000</td>\n",
              "      <td>96.400000</td>\n",
              "    </tr>\n",
              "    <tr>\n",
              "      <th>3</th>\n",
              "      <td>Andorra</td>\n",
              "      <td>Europe</td>\n",
              "      <td>78</td>\n",
              "      <td>15.20</td>\n",
              "      <td>22.86</td>\n",
              "      <td>2.940656</td>\n",
              "      <td>82</td>\n",
              "      <td>3.2</td>\n",
              "      <td>75.49</td>\n",
              "      <td>83.71068</td>\n",
              "      <td>13320.925926</td>\n",
              "      <td>78.400000</td>\n",
              "      <td>79.400000</td>\n",
              "    </tr>\n",
              "    <tr>\n",
              "      <th>4</th>\n",
              "      <td>Angola</td>\n",
              "      <td>Africa</td>\n",
              "      <td>20821</td>\n",
              "      <td>47.58</td>\n",
              "      <td>3.84</td>\n",
              "      <td>6.100000</td>\n",
              "      <td>51</td>\n",
              "      <td>163.5</td>\n",
              "      <td>48.38</td>\n",
              "      <td>70.10000</td>\n",
              "      <td>5230.000000</td>\n",
              "      <td>93.100000</td>\n",
              "      <td>78.200000</td>\n",
              "    </tr>\n",
              "    <tr>\n",
              "      <th>...</th>\n",
              "      <td>...</td>\n",
              "      <td>...</td>\n",
              "      <td>...</td>\n",
              "      <td>...</td>\n",
              "      <td>...</td>\n",
              "      <td>...</td>\n",
              "      <td>...</td>\n",
              "      <td>...</td>\n",
              "      <td>...</td>\n",
              "      <td>...</td>\n",
              "      <td>...</td>\n",
              "      <td>...</td>\n",
              "      <td>...</td>\n",
              "    </tr>\n",
              "    <tr>\n",
              "      <th>189</th>\n",
              "      <td>Venezuela (Bolivarian Republic of)</td>\n",
              "      <td>Americas</td>\n",
              "      <td>29955</td>\n",
              "      <td>28.84</td>\n",
              "      <td>9.17</td>\n",
              "      <td>2.440000</td>\n",
              "      <td>75</td>\n",
              "      <td>15.3</td>\n",
              "      <td>97.78</td>\n",
              "      <td>83.71068</td>\n",
              "      <td>12430.000000</td>\n",
              "      <td>94.700000</td>\n",
              "      <td>95.100000</td>\n",
              "    </tr>\n",
              "    <tr>\n",
              "      <th>190</th>\n",
              "      <td>Viet Nam</td>\n",
              "      <td>Western Pacific</td>\n",
              "      <td>90796</td>\n",
              "      <td>22.87</td>\n",
              "      <td>9.32</td>\n",
              "      <td>1.790000</td>\n",
              "      <td>75</td>\n",
              "      <td>23.0</td>\n",
              "      <td>143.39</td>\n",
              "      <td>93.20000</td>\n",
              "      <td>3250.000000</td>\n",
              "      <td>90.850495</td>\n",
              "      <td>89.632673</td>\n",
              "    </tr>\n",
              "    <tr>\n",
              "      <th>191</th>\n",
              "      <td>Yemen</td>\n",
              "      <td>Eastern Mediterranean</td>\n",
              "      <td>23852</td>\n",
              "      <td>40.72</td>\n",
              "      <td>4.54</td>\n",
              "      <td>4.350000</td>\n",
              "      <td>64</td>\n",
              "      <td>60.0</td>\n",
              "      <td>47.05</td>\n",
              "      <td>63.90000</td>\n",
              "      <td>2170.000000</td>\n",
              "      <td>85.500000</td>\n",
              "      <td>70.500000</td>\n",
              "    </tr>\n",
              "    <tr>\n",
              "      <th>192</th>\n",
              "      <td>Zambia</td>\n",
              "      <td>Africa</td>\n",
              "      <td>14075</td>\n",
              "      <td>46.73</td>\n",
              "      <td>3.95</td>\n",
              "      <td>5.770000</td>\n",
              "      <td>55</td>\n",
              "      <td>88.5</td>\n",
              "      <td>60.59</td>\n",
              "      <td>71.20000</td>\n",
              "      <td>1490.000000</td>\n",
              "      <td>91.400000</td>\n",
              "      <td>93.900000</td>\n",
              "    </tr>\n",
              "    <tr>\n",
              "      <th>193</th>\n",
              "      <td>Zimbabwe</td>\n",
              "      <td>Africa</td>\n",
              "      <td>13724</td>\n",
              "      <td>40.24</td>\n",
              "      <td>5.68</td>\n",
              "      <td>3.640000</td>\n",
              "      <td>54</td>\n",
              "      <td>89.8</td>\n",
              "      <td>72.13</td>\n",
              "      <td>92.20000</td>\n",
              "      <td>13320.925926</td>\n",
              "      <td>90.850495</td>\n",
              "      <td>89.632673</td>\n",
              "    </tr>\n",
              "  </tbody>\n",
              "</table>\n",
              "<p>194 rows × 13 columns</p>\n",
              "</div>\n",
              "      <button class=\"colab-df-convert\" onclick=\"convertToInteractive('df-ed6aa873-f89a-4366-b392-21d09e4a99d8')\"\n",
              "              title=\"Convert this dataframe to an interactive table.\"\n",
              "              style=\"display:none;\">\n",
              "        \n",
              "  <svg xmlns=\"http://www.w3.org/2000/svg\" height=\"24px\"viewBox=\"0 0 24 24\"\n",
              "       width=\"24px\">\n",
              "    <path d=\"M0 0h24v24H0V0z\" fill=\"none\"/>\n",
              "    <path d=\"M18.56 5.44l.94 2.06.94-2.06 2.06-.94-2.06-.94-.94-2.06-.94 2.06-2.06.94zm-11 1L8.5 8.5l.94-2.06 2.06-.94-2.06-.94L8.5 2.5l-.94 2.06-2.06.94zm10 10l.94 2.06.94-2.06 2.06-.94-2.06-.94-.94-2.06-.94 2.06-2.06.94z\"/><path d=\"M17.41 7.96l-1.37-1.37c-.4-.4-.92-.59-1.43-.59-.52 0-1.04.2-1.43.59L10.3 9.45l-7.72 7.72c-.78.78-.78 2.05 0 2.83L4 21.41c.39.39.9.59 1.41.59.51 0 1.02-.2 1.41-.59l7.78-7.78 2.81-2.81c.8-.78.8-2.07 0-2.86zM5.41 20L4 18.59l7.72-7.72 1.47 1.35L5.41 20z\"/>\n",
              "  </svg>\n",
              "      </button>\n",
              "      \n",
              "  <style>\n",
              "    .colab-df-container {\n",
              "      display:flex;\n",
              "      flex-wrap:wrap;\n",
              "      gap: 12px;\n",
              "    }\n",
              "\n",
              "    .colab-df-convert {\n",
              "      background-color: #E8F0FE;\n",
              "      border: none;\n",
              "      border-radius: 50%;\n",
              "      cursor: pointer;\n",
              "      display: none;\n",
              "      fill: #1967D2;\n",
              "      height: 32px;\n",
              "      padding: 0 0 0 0;\n",
              "      width: 32px;\n",
              "    }\n",
              "\n",
              "    .colab-df-convert:hover {\n",
              "      background-color: #E2EBFA;\n",
              "      box-shadow: 0px 1px 2px rgba(60, 64, 67, 0.3), 0px 1px 3px 1px rgba(60, 64, 67, 0.15);\n",
              "      fill: #174EA6;\n",
              "    }\n",
              "\n",
              "    [theme=dark] .colab-df-convert {\n",
              "      background-color: #3B4455;\n",
              "      fill: #D2E3FC;\n",
              "    }\n",
              "\n",
              "    [theme=dark] .colab-df-convert:hover {\n",
              "      background-color: #434B5C;\n",
              "      box-shadow: 0px 1px 3px 1px rgba(0, 0, 0, 0.15);\n",
              "      filter: drop-shadow(0px 1px 2px rgba(0, 0, 0, 0.3));\n",
              "      fill: #FFFFFF;\n",
              "    }\n",
              "  </style>\n",
              "\n",
              "      <script>\n",
              "        const buttonEl =\n",
              "          document.querySelector('#df-ed6aa873-f89a-4366-b392-21d09e4a99d8 button.colab-df-convert');\n",
              "        buttonEl.style.display =\n",
              "          google.colab.kernel.accessAllowed ? 'block' : 'none';\n",
              "\n",
              "        async function convertToInteractive(key) {\n",
              "          const element = document.querySelector('#df-ed6aa873-f89a-4366-b392-21d09e4a99d8');\n",
              "          const dataTable =\n",
              "            await google.colab.kernel.invokeFunction('convertToInteractive',\n",
              "                                                     [key], {});\n",
              "          if (!dataTable) return;\n",
              "\n",
              "          const docLinkHtml = 'Like what you see? Visit the ' +\n",
              "            '<a target=\"_blank\" href=https://colab.research.google.com/notebooks/data_table.ipynb>data table notebook</a>'\n",
              "            + ' to learn more about interactive tables.';\n",
              "          element.innerHTML = '';\n",
              "          dataTable['output_type'] = 'display_data';\n",
              "          await google.colab.output.renderOutput(dataTable, element);\n",
              "          const docLink = document.createElement('div');\n",
              "          docLink.innerHTML = docLinkHtml;\n",
              "          element.appendChild(docLink);\n",
              "        }\n",
              "      </script>\n",
              "    </div>\n",
              "  </div>\n",
              "  "
            ]
          },
          "metadata": {},
          "execution_count": 4
        }
      ],
      "source": [
        "df2 = df1.fillna(value = df1.mean())\n",
        "\n",
        "df2"
      ]
    },
    {
      "cell_type": "markdown",
      "source": [
        "#3. We have identified the countries with the lowest % of their population under 15 and the one with the highest.\n",
        "\n",
        "\n",
        "\n",
        "\n",
        "*   The following logical arguments were bulit in order to uncover the solution.\n",
        "*   Because the \"Under15\" column had no null elements, the original dataframe was used.\n",
        "\n",
        "\n",
        "\n",
        "\n",
        "\n"
      ],
      "metadata": {
        "id": "epbYoCbU4L8i"
      },
      "id": "epbYoCbU4L8i"
    },
    {
      "cell_type": "code",
      "source": [
        "#This code was built with a logical argument to indentify the highest population under 15.\n",
        "\n",
        "#Assigning the minimum value to highest_population variable\n",
        "highest_population = df1.Under15.max()\n",
        "\n",
        "#Assigning the minimum value to highest_population variable\n",
        "df1[df1['Under15'] == highest_population] \n"
      ],
      "metadata": {
        "colab": {
          "base_uri": "https://localhost:8080/",
          "height": 144
        },
        "id": "AIQS8GQ19zEH",
        "outputId": "3eddfb02-7263-46ae-ac6d-322d04fd997e"
      },
      "id": "AIQS8GQ19zEH",
      "execution_count": null,
      "outputs": [
        {
          "output_type": "execute_result",
          "data": {
            "text/plain": [
              "    Country  Region  Population  Under15  Over60  FertilityRate  \\\n",
              "123   Niger  Africa       17157    49.99    4.26           7.58   \n",
              "\n",
              "     LifeExpectancy  ChildMortality  CellularSubscribers  LiteracyRate    GNI  \\\n",
              "123              56           113.5                29.52           NaN  720.0   \n",
              "\n",
              "     PrimarySchoolEnrollmentMale  PrimarySchoolEnrollmentFemale  \n",
              "123                         64.2                           52.0  "
            ],
            "text/html": [
              "\n",
              "  <div id=\"df-1f6efac4-3649-46b9-88b6-0d455c6b04e8\">\n",
              "    <div class=\"colab-df-container\">\n",
              "      <div>\n",
              "<style scoped>\n",
              "    .dataframe tbody tr th:only-of-type {\n",
              "        vertical-align: middle;\n",
              "    }\n",
              "\n",
              "    .dataframe tbody tr th {\n",
              "        vertical-align: top;\n",
              "    }\n",
              "\n",
              "    .dataframe thead th {\n",
              "        text-align: right;\n",
              "    }\n",
              "</style>\n",
              "<table border=\"1\" class=\"dataframe\">\n",
              "  <thead>\n",
              "    <tr style=\"text-align: right;\">\n",
              "      <th></th>\n",
              "      <th>Country</th>\n",
              "      <th>Region</th>\n",
              "      <th>Population</th>\n",
              "      <th>Under15</th>\n",
              "      <th>Over60</th>\n",
              "      <th>FertilityRate</th>\n",
              "      <th>LifeExpectancy</th>\n",
              "      <th>ChildMortality</th>\n",
              "      <th>CellularSubscribers</th>\n",
              "      <th>LiteracyRate</th>\n",
              "      <th>GNI</th>\n",
              "      <th>PrimarySchoolEnrollmentMale</th>\n",
              "      <th>PrimarySchoolEnrollmentFemale</th>\n",
              "    </tr>\n",
              "  </thead>\n",
              "  <tbody>\n",
              "    <tr>\n",
              "      <th>123</th>\n",
              "      <td>Niger</td>\n",
              "      <td>Africa</td>\n",
              "      <td>17157</td>\n",
              "      <td>49.99</td>\n",
              "      <td>4.26</td>\n",
              "      <td>7.58</td>\n",
              "      <td>56</td>\n",
              "      <td>113.5</td>\n",
              "      <td>29.52</td>\n",
              "      <td>NaN</td>\n",
              "      <td>720.0</td>\n",
              "      <td>64.2</td>\n",
              "      <td>52.0</td>\n",
              "    </tr>\n",
              "  </tbody>\n",
              "</table>\n",
              "</div>\n",
              "      <button class=\"colab-df-convert\" onclick=\"convertToInteractive('df-1f6efac4-3649-46b9-88b6-0d455c6b04e8')\"\n",
              "              title=\"Convert this dataframe to an interactive table.\"\n",
              "              style=\"display:none;\">\n",
              "        \n",
              "  <svg xmlns=\"http://www.w3.org/2000/svg\" height=\"24px\"viewBox=\"0 0 24 24\"\n",
              "       width=\"24px\">\n",
              "    <path d=\"M0 0h24v24H0V0z\" fill=\"none\"/>\n",
              "    <path d=\"M18.56 5.44l.94 2.06.94-2.06 2.06-.94-2.06-.94-.94-2.06-.94 2.06-2.06.94zm-11 1L8.5 8.5l.94-2.06 2.06-.94-2.06-.94L8.5 2.5l-.94 2.06-2.06.94zm10 10l.94 2.06.94-2.06 2.06-.94-2.06-.94-.94-2.06-.94 2.06-2.06.94z\"/><path d=\"M17.41 7.96l-1.37-1.37c-.4-.4-.92-.59-1.43-.59-.52 0-1.04.2-1.43.59L10.3 9.45l-7.72 7.72c-.78.78-.78 2.05 0 2.83L4 21.41c.39.39.9.59 1.41.59.51 0 1.02-.2 1.41-.59l7.78-7.78 2.81-2.81c.8-.78.8-2.07 0-2.86zM5.41 20L4 18.59l7.72-7.72 1.47 1.35L5.41 20z\"/>\n",
              "  </svg>\n",
              "      </button>\n",
              "      \n",
              "  <style>\n",
              "    .colab-df-container {\n",
              "      display:flex;\n",
              "      flex-wrap:wrap;\n",
              "      gap: 12px;\n",
              "    }\n",
              "\n",
              "    .colab-df-convert {\n",
              "      background-color: #E8F0FE;\n",
              "      border: none;\n",
              "      border-radius: 50%;\n",
              "      cursor: pointer;\n",
              "      display: none;\n",
              "      fill: #1967D2;\n",
              "      height: 32px;\n",
              "      padding: 0 0 0 0;\n",
              "      width: 32px;\n",
              "    }\n",
              "\n",
              "    .colab-df-convert:hover {\n",
              "      background-color: #E2EBFA;\n",
              "      box-shadow: 0px 1px 2px rgba(60, 64, 67, 0.3), 0px 1px 3px 1px rgba(60, 64, 67, 0.15);\n",
              "      fill: #174EA6;\n",
              "    }\n",
              "\n",
              "    [theme=dark] .colab-df-convert {\n",
              "      background-color: #3B4455;\n",
              "      fill: #D2E3FC;\n",
              "    }\n",
              "\n",
              "    [theme=dark] .colab-df-convert:hover {\n",
              "      background-color: #434B5C;\n",
              "      box-shadow: 0px 1px 3px 1px rgba(0, 0, 0, 0.15);\n",
              "      filter: drop-shadow(0px 1px 2px rgba(0, 0, 0, 0.3));\n",
              "      fill: #FFFFFF;\n",
              "    }\n",
              "  </style>\n",
              "\n",
              "      <script>\n",
              "        const buttonEl =\n",
              "          document.querySelector('#df-1f6efac4-3649-46b9-88b6-0d455c6b04e8 button.colab-df-convert');\n",
              "        buttonEl.style.display =\n",
              "          google.colab.kernel.accessAllowed ? 'block' : 'none';\n",
              "\n",
              "        async function convertToInteractive(key) {\n",
              "          const element = document.querySelector('#df-1f6efac4-3649-46b9-88b6-0d455c6b04e8');\n",
              "          const dataTable =\n",
              "            await google.colab.kernel.invokeFunction('convertToInteractive',\n",
              "                                                     [key], {});\n",
              "          if (!dataTable) return;\n",
              "\n",
              "          const docLinkHtml = 'Like what you see? Visit the ' +\n",
              "            '<a target=\"_blank\" href=https://colab.research.google.com/notebooks/data_table.ipynb>data table notebook</a>'\n",
              "            + ' to learn more about interactive tables.';\n",
              "          element.innerHTML = '';\n",
              "          dataTable['output_type'] = 'display_data';\n",
              "          await google.colab.output.renderOutput(dataTable, element);\n",
              "          const docLink = document.createElement('div');\n",
              "          docLink.innerHTML = docLinkHtml;\n",
              "          element.appendChild(docLink);\n",
              "        }\n",
              "      </script>\n",
              "    </div>\n",
              "  </div>\n",
              "  "
            ]
          },
          "metadata": {},
          "execution_count": 24
        }
      ]
    },
    {
      "cell_type": "code",
      "source": [
        "#This code was built with a logical argument to indentify the lowest population under 15.\n",
        "\n",
        "#Assigning the minimum value to lowest_population variable\n",
        "lowest_population = df1.Under15.min()\n",
        "\n",
        "#Comparing the list \"Under15\" with lowest_population in order to find and display the correct row. \n",
        "df1[df1['Under15'] == lowest_population]\n"
      ],
      "metadata": {
        "colab": {
          "base_uri": "https://localhost:8080/",
          "height": 162
        },
        "id": "KB13E7Nf-yFv",
        "outputId": "c43675d2-634b-434f-c92b-8bc4ee5706dd"
      },
      "id": "KB13E7Nf-yFv",
      "execution_count": null,
      "outputs": [
        {
          "output_type": "execute_result",
          "data": {
            "text/plain": [
              "   Country           Region  Population  Under15  Over60  FertilityRate  \\\n",
              "85   Japan  Western Pacific      127000    13.12   31.92           1.39   \n",
              "\n",
              "    LifeExpectancy  ChildMortality  CellularSubscribers  LiteracyRate  \\\n",
              "85              83             3.0               104.95           NaN   \n",
              "\n",
              "        GNI  PrimarySchoolEnrollmentMale  PrimarySchoolEnrollmentFemale  \n",
              "85  35330.0                          NaN                            NaN  "
            ],
            "text/html": [
              "\n",
              "  <div id=\"df-71871d57-80ba-4714-a0a0-dd2744dc7469\">\n",
              "    <div class=\"colab-df-container\">\n",
              "      <div>\n",
              "<style scoped>\n",
              "    .dataframe tbody tr th:only-of-type {\n",
              "        vertical-align: middle;\n",
              "    }\n",
              "\n",
              "    .dataframe tbody tr th {\n",
              "        vertical-align: top;\n",
              "    }\n",
              "\n",
              "    .dataframe thead th {\n",
              "        text-align: right;\n",
              "    }\n",
              "</style>\n",
              "<table border=\"1\" class=\"dataframe\">\n",
              "  <thead>\n",
              "    <tr style=\"text-align: right;\">\n",
              "      <th></th>\n",
              "      <th>Country</th>\n",
              "      <th>Region</th>\n",
              "      <th>Population</th>\n",
              "      <th>Under15</th>\n",
              "      <th>Over60</th>\n",
              "      <th>FertilityRate</th>\n",
              "      <th>LifeExpectancy</th>\n",
              "      <th>ChildMortality</th>\n",
              "      <th>CellularSubscribers</th>\n",
              "      <th>LiteracyRate</th>\n",
              "      <th>GNI</th>\n",
              "      <th>PrimarySchoolEnrollmentMale</th>\n",
              "      <th>PrimarySchoolEnrollmentFemale</th>\n",
              "    </tr>\n",
              "  </thead>\n",
              "  <tbody>\n",
              "    <tr>\n",
              "      <th>85</th>\n",
              "      <td>Japan</td>\n",
              "      <td>Western Pacific</td>\n",
              "      <td>127000</td>\n",
              "      <td>13.12</td>\n",
              "      <td>31.92</td>\n",
              "      <td>1.39</td>\n",
              "      <td>83</td>\n",
              "      <td>3.0</td>\n",
              "      <td>104.95</td>\n",
              "      <td>NaN</td>\n",
              "      <td>35330.0</td>\n",
              "      <td>NaN</td>\n",
              "      <td>NaN</td>\n",
              "    </tr>\n",
              "  </tbody>\n",
              "</table>\n",
              "</div>\n",
              "      <button class=\"colab-df-convert\" onclick=\"convertToInteractive('df-71871d57-80ba-4714-a0a0-dd2744dc7469')\"\n",
              "              title=\"Convert this dataframe to an interactive table.\"\n",
              "              style=\"display:none;\">\n",
              "        \n",
              "  <svg xmlns=\"http://www.w3.org/2000/svg\" height=\"24px\"viewBox=\"0 0 24 24\"\n",
              "       width=\"24px\">\n",
              "    <path d=\"M0 0h24v24H0V0z\" fill=\"none\"/>\n",
              "    <path d=\"M18.56 5.44l.94 2.06.94-2.06 2.06-.94-2.06-.94-.94-2.06-.94 2.06-2.06.94zm-11 1L8.5 8.5l.94-2.06 2.06-.94-2.06-.94L8.5 2.5l-.94 2.06-2.06.94zm10 10l.94 2.06.94-2.06 2.06-.94-2.06-.94-.94-2.06-.94 2.06-2.06.94z\"/><path d=\"M17.41 7.96l-1.37-1.37c-.4-.4-.92-.59-1.43-.59-.52 0-1.04.2-1.43.59L10.3 9.45l-7.72 7.72c-.78.78-.78 2.05 0 2.83L4 21.41c.39.39.9.59 1.41.59.51 0 1.02-.2 1.41-.59l7.78-7.78 2.81-2.81c.8-.78.8-2.07 0-2.86zM5.41 20L4 18.59l7.72-7.72 1.47 1.35L5.41 20z\"/>\n",
              "  </svg>\n",
              "      </button>\n",
              "      \n",
              "  <style>\n",
              "    .colab-df-container {\n",
              "      display:flex;\n",
              "      flex-wrap:wrap;\n",
              "      gap: 12px;\n",
              "    }\n",
              "\n",
              "    .colab-df-convert {\n",
              "      background-color: #E8F0FE;\n",
              "      border: none;\n",
              "      border-radius: 50%;\n",
              "      cursor: pointer;\n",
              "      display: none;\n",
              "      fill: #1967D2;\n",
              "      height: 32px;\n",
              "      padding: 0 0 0 0;\n",
              "      width: 32px;\n",
              "    }\n",
              "\n",
              "    .colab-df-convert:hover {\n",
              "      background-color: #E2EBFA;\n",
              "      box-shadow: 0px 1px 2px rgba(60, 64, 67, 0.3), 0px 1px 3px 1px rgba(60, 64, 67, 0.15);\n",
              "      fill: #174EA6;\n",
              "    }\n",
              "\n",
              "    [theme=dark] .colab-df-convert {\n",
              "      background-color: #3B4455;\n",
              "      fill: #D2E3FC;\n",
              "    }\n",
              "\n",
              "    [theme=dark] .colab-df-convert:hover {\n",
              "      background-color: #434B5C;\n",
              "      box-shadow: 0px 1px 3px 1px rgba(0, 0, 0, 0.15);\n",
              "      filter: drop-shadow(0px 1px 2px rgba(0, 0, 0, 0.3));\n",
              "      fill: #FFFFFF;\n",
              "    }\n",
              "  </style>\n",
              "\n",
              "      <script>\n",
              "        const buttonEl =\n",
              "          document.querySelector('#df-71871d57-80ba-4714-a0a0-dd2744dc7469 button.colab-df-convert');\n",
              "        buttonEl.style.display =\n",
              "          google.colab.kernel.accessAllowed ? 'block' : 'none';\n",
              "\n",
              "        async function convertToInteractive(key) {\n",
              "          const element = document.querySelector('#df-71871d57-80ba-4714-a0a0-dd2744dc7469');\n",
              "          const dataTable =\n",
              "            await google.colab.kernel.invokeFunction('convertToInteractive',\n",
              "                                                     [key], {});\n",
              "          if (!dataTable) return;\n",
              "\n",
              "          const docLinkHtml = 'Like what you see? Visit the ' +\n",
              "            '<a target=\"_blank\" href=https://colab.research.google.com/notebooks/data_table.ipynb>data table notebook</a>'\n",
              "            + ' to learn more about interactive tables.';\n",
              "          element.innerHTML = '';\n",
              "          dataTable['output_type'] = 'display_data';\n",
              "          await google.colab.output.renderOutput(dataTable, element);\n",
              "          const docLink = document.createElement('div');\n",
              "          docLink.innerHTML = docLinkHtml;\n",
              "          element.appendChild(docLink);\n",
              "        }\n",
              "      </script>\n",
              "    </div>\n",
              "  </div>\n",
              "  "
            ]
          },
          "metadata": {},
          "execution_count": 9
        }
      ]
    },
    {
      "cell_type": "markdown",
      "source": [
        "After executing the code, we can note that the country with the \n",
        "* highest population under-15 is **Niger** and; \n",
        "* the country with the lowest is **Japan**."
      ],
      "metadata": {
        "id": "JmH15pZwK_GL"
      },
      "id": "JmH15pZwK_GL"
    },
    {
      "cell_type": "markdown",
      "source": [
        "#4. In the following workings, we are required to determine the region that has the highest% of their population over 60. \n",
        "\n",
        "**The original dataframe was used, because the 'Over60' column did not have any null values.**\n",
        "\n"
      ],
      "metadata": {
        "id": "VnwJifFJMAIH"
      },
      "id": "VnwJifFJMAIH"
    },
    {
      "cell_type": "code",
      "source": [
        "#Changing the dataframe index from 'Country' to 'Region'. \n",
        "df3 = df1.set_index('Region')\n",
        "\n",
        "#Assigning the maximum value to highest_population_over60 variable\n",
        "highest_population_over60 = df3.Over60.max()\n",
        "\n",
        "#Comparing the list \"Under15\" with highest_population_over60 in order to find and display the correct row\n",
        "df3[df3['Over60'] == highest_population_over60]\n"
      ],
      "metadata": {
        "colab": {
          "base_uri": "https://localhost:8080/",
          "height": 193
        },
        "id": "y4ojqPJfNJw7",
        "outputId": "d2d30bba-b700-4301-b804-33b1409b9183"
      },
      "id": "y4ojqPJfNJw7",
      "execution_count": null,
      "outputs": [
        {
          "output_type": "execute_result",
          "data": {
            "text/plain": [
              "                Country  Population  Under15  Over60  FertilityRate  \\\n",
              "Region                                                                \n",
              "Western Pacific   Japan      127000    13.12   31.92           1.39   \n",
              "\n",
              "                 LifeExpectancy  ChildMortality  CellularSubscribers  \\\n",
              "Region                                                                 \n",
              "Western Pacific              83             3.0               104.95   \n",
              "\n",
              "                 LiteracyRate      GNI  PrimarySchoolEnrollmentMale  \\\n",
              "Region                                                                \n",
              "Western Pacific           NaN  35330.0                          NaN   \n",
              "\n",
              "                 PrimarySchoolEnrollmentFemale  \n",
              "Region                                          \n",
              "Western Pacific                            NaN  "
            ],
            "text/html": [
              "\n",
              "  <div id=\"df-18d03438-f63a-4e3f-8ec6-13455be05d57\">\n",
              "    <div class=\"colab-df-container\">\n",
              "      <div>\n",
              "<style scoped>\n",
              "    .dataframe tbody tr th:only-of-type {\n",
              "        vertical-align: middle;\n",
              "    }\n",
              "\n",
              "    .dataframe tbody tr th {\n",
              "        vertical-align: top;\n",
              "    }\n",
              "\n",
              "    .dataframe thead th {\n",
              "        text-align: right;\n",
              "    }\n",
              "</style>\n",
              "<table border=\"1\" class=\"dataframe\">\n",
              "  <thead>\n",
              "    <tr style=\"text-align: right;\">\n",
              "      <th></th>\n",
              "      <th>Country</th>\n",
              "      <th>Population</th>\n",
              "      <th>Under15</th>\n",
              "      <th>Over60</th>\n",
              "      <th>FertilityRate</th>\n",
              "      <th>LifeExpectancy</th>\n",
              "      <th>ChildMortality</th>\n",
              "      <th>CellularSubscribers</th>\n",
              "      <th>LiteracyRate</th>\n",
              "      <th>GNI</th>\n",
              "      <th>PrimarySchoolEnrollmentMale</th>\n",
              "      <th>PrimarySchoolEnrollmentFemale</th>\n",
              "    </tr>\n",
              "    <tr>\n",
              "      <th>Region</th>\n",
              "      <th></th>\n",
              "      <th></th>\n",
              "      <th></th>\n",
              "      <th></th>\n",
              "      <th></th>\n",
              "      <th></th>\n",
              "      <th></th>\n",
              "      <th></th>\n",
              "      <th></th>\n",
              "      <th></th>\n",
              "      <th></th>\n",
              "      <th></th>\n",
              "    </tr>\n",
              "  </thead>\n",
              "  <tbody>\n",
              "    <tr>\n",
              "      <th>Western Pacific</th>\n",
              "      <td>Japan</td>\n",
              "      <td>127000</td>\n",
              "      <td>13.12</td>\n",
              "      <td>31.92</td>\n",
              "      <td>1.39</td>\n",
              "      <td>83</td>\n",
              "      <td>3.0</td>\n",
              "      <td>104.95</td>\n",
              "      <td>NaN</td>\n",
              "      <td>35330.0</td>\n",
              "      <td>NaN</td>\n",
              "      <td>NaN</td>\n",
              "    </tr>\n",
              "  </tbody>\n",
              "</table>\n",
              "</div>\n",
              "      <button class=\"colab-df-convert\" onclick=\"convertToInteractive('df-18d03438-f63a-4e3f-8ec6-13455be05d57')\"\n",
              "              title=\"Convert this dataframe to an interactive table.\"\n",
              "              style=\"display:none;\">\n",
              "        \n",
              "  <svg xmlns=\"http://www.w3.org/2000/svg\" height=\"24px\"viewBox=\"0 0 24 24\"\n",
              "       width=\"24px\">\n",
              "    <path d=\"M0 0h24v24H0V0z\" fill=\"none\"/>\n",
              "    <path d=\"M18.56 5.44l.94 2.06.94-2.06 2.06-.94-2.06-.94-.94-2.06-.94 2.06-2.06.94zm-11 1L8.5 8.5l.94-2.06 2.06-.94-2.06-.94L8.5 2.5l-.94 2.06-2.06.94zm10 10l.94 2.06.94-2.06 2.06-.94-2.06-.94-.94-2.06-.94 2.06-2.06.94z\"/><path d=\"M17.41 7.96l-1.37-1.37c-.4-.4-.92-.59-1.43-.59-.52 0-1.04.2-1.43.59L10.3 9.45l-7.72 7.72c-.78.78-.78 2.05 0 2.83L4 21.41c.39.39.9.59 1.41.59.51 0 1.02-.2 1.41-.59l7.78-7.78 2.81-2.81c.8-.78.8-2.07 0-2.86zM5.41 20L4 18.59l7.72-7.72 1.47 1.35L5.41 20z\"/>\n",
              "  </svg>\n",
              "      </button>\n",
              "      \n",
              "  <style>\n",
              "    .colab-df-container {\n",
              "      display:flex;\n",
              "      flex-wrap:wrap;\n",
              "      gap: 12px;\n",
              "    }\n",
              "\n",
              "    .colab-df-convert {\n",
              "      background-color: #E8F0FE;\n",
              "      border: none;\n",
              "      border-radius: 50%;\n",
              "      cursor: pointer;\n",
              "      display: none;\n",
              "      fill: #1967D2;\n",
              "      height: 32px;\n",
              "      padding: 0 0 0 0;\n",
              "      width: 32px;\n",
              "    }\n",
              "\n",
              "    .colab-df-convert:hover {\n",
              "      background-color: #E2EBFA;\n",
              "      box-shadow: 0px 1px 2px rgba(60, 64, 67, 0.3), 0px 1px 3px 1px rgba(60, 64, 67, 0.15);\n",
              "      fill: #174EA6;\n",
              "    }\n",
              "\n",
              "    [theme=dark] .colab-df-convert {\n",
              "      background-color: #3B4455;\n",
              "      fill: #D2E3FC;\n",
              "    }\n",
              "\n",
              "    [theme=dark] .colab-df-convert:hover {\n",
              "      background-color: #434B5C;\n",
              "      box-shadow: 0px 1px 3px 1px rgba(0, 0, 0, 0.15);\n",
              "      filter: drop-shadow(0px 1px 2px rgba(0, 0, 0, 0.3));\n",
              "      fill: #FFFFFF;\n",
              "    }\n",
              "  </style>\n",
              "\n",
              "      <script>\n",
              "        const buttonEl =\n",
              "          document.querySelector('#df-18d03438-f63a-4e3f-8ec6-13455be05d57 button.colab-df-convert');\n",
              "        buttonEl.style.display =\n",
              "          google.colab.kernel.accessAllowed ? 'block' : 'none';\n",
              "\n",
              "        async function convertToInteractive(key) {\n",
              "          const element = document.querySelector('#df-18d03438-f63a-4e3f-8ec6-13455be05d57');\n",
              "          const dataTable =\n",
              "            await google.colab.kernel.invokeFunction('convertToInteractive',\n",
              "                                                     [key], {});\n",
              "          if (!dataTable) return;\n",
              "\n",
              "          const docLinkHtml = 'Like what you see? Visit the ' +\n",
              "            '<a target=\"_blank\" href=https://colab.research.google.com/notebooks/data_table.ipynb>data table notebook</a>'\n",
              "            + ' to learn more about interactive tables.';\n",
              "          element.innerHTML = '';\n",
              "          dataTable['output_type'] = 'display_data';\n",
              "          await google.colab.output.renderOutput(dataTable, element);\n",
              "          const docLink = document.createElement('div');\n",
              "          docLink.innerHTML = docLinkHtml;\n",
              "          element.appendChild(docLink);\n",
              "        }\n",
              "      </script>\n",
              "    </div>\n",
              "  </div>\n",
              "  "
            ]
          },
          "metadata": {},
          "execution_count": 32
        }
      ]
    },
    {
      "cell_type": "markdown",
      "source": [
        "* When dealing with this question, the first things that had to be done was to change the dataframe's original index from 'Country' to 'Region'.\n",
        "\n",
        "* In order not to affect the original a second dataframe named \"**df3**\" was created with the new index 'Region'.\n",
        "\n",
        "* After working the code and running it, I found that the **Western Pacific** is the region with the highest population over 60. "
      ],
      "metadata": {
        "id": "6x6ITp0jSnRs"
      },
      "id": "6x6ITp0jSnRs"
    },
    {
      "cell_type": "markdown",
      "source": [
        "#5. Does fertility decrease as income increase?\n",
        "\n"
      ],
      "metadata": {
        "id": "bRA1bxR5T7tp"
      },
      "id": "bRA1bxR5T7tp"
    },
    {
      "cell_type": "code",
      "source": [
        "#Importing numpy as np\n",
        "import numpy as np\n",
        "\n",
        "\n",
        "#Creating a new dataframe, whereby the null values were filled with the mean value of their respective column.\n",
        "df2 = df1.fillna(value = df1.mean())\n",
        "\n",
        "#Setting FertilityRate to np_fertility\n",
        "np_fertility = df2.FertilityRate\n",
        "\n",
        "#Setting GNI to np_GNI\n",
        "np_GNI = df2.GNI\n",
        "\n",
        "#Determining the correlation betwwen np_fertility and np_GNI\n",
        "corr = np.corrcoef(np_fertility, np_GNI)\n",
        "\n",
        "corr\n",
        "\n"
      ],
      "metadata": {
        "colab": {
          "base_uri": "https://localhost:8080/"
        },
        "id": "x4_gmv2dUJiv",
        "outputId": "a521b6e0-7136-4683-f8d0-a6f9fa55c486"
      },
      "id": "x4_gmv2dUJiv",
      "execution_count": null,
      "outputs": [
        {
          "output_type": "stream",
          "name": "stderr",
          "text": [
            "/usr/local/lib/python3.7/dist-packages/ipykernel_launcher.py:6: FutureWarning: Dropping of nuisance columns in DataFrame reductions (with 'numeric_only=None') is deprecated; in a future version this will raise TypeError.  Select only valid columns before calling the reduction.\n",
            "  \n"
          ]
        },
        {
          "output_type": "execute_result",
          "data": {
            "text/plain": [
              "array([[ 1.        , -0.51527293],\n",
              "       [-0.51527293,  1.        ]])"
            ]
          },
          "metadata": {},
          "execution_count": 5
        }
      ]
    },
    {
      "cell_type": "code",
      "source": [
        "df2['FertilityRate'].corr(df2['GNI'])\n"
      ],
      "metadata": {
        "colab": {
          "base_uri": "https://localhost:8080/"
        },
        "id": "dYkf-kH9ymLH",
        "outputId": "6f98cbc4-997c-4a34-a2a9-c36c99181d40"
      },
      "id": "dYkf-kH9ymLH",
      "execution_count": null,
      "outputs": [
        {
          "output_type": "execute_result",
          "data": {
            "text/plain": [
              "-0.5152729295055448"
            ]
          },
          "metadata": {},
          "execution_count": 8
        }
      ]
    },
    {
      "cell_type": "markdown",
      "source": [
        "*Above, I have used two different methods to calculate the correlation between 'FertilityRate' and 'GNI'. The correlation coefficient between the two columns is -0.5152729295055448"
      ],
      "metadata": {
        "id": "_REcYeuQzvph"
      },
      "id": "_REcYeuQzvph"
    },
    {
      "cell_type": "markdown",
      "source": [
        "#6 Which regions have the lowest literacy rates?\n",
        "\n"
      ],
      "metadata": {
        "id": "to6UNsr91xMI"
      },
      "id": "to6UNsr91xMI"
    },
    {
      "cell_type": "code",
      "source": [
        "#Filling the null values with the mean from within its' respective column and assigning it to a new dataframe df2 \n",
        "df2 = df1.fillna(value = df1.mean())\n",
        "\n",
        "#Changing the index from 'Country' to 'Region'\n",
        "df4 = df2.set_index('Region')\n",
        "\n",
        "#Finding the min() value from 'LiteracyRate'\n",
        "df4.LiteracyRate.min()\n",
        "\n",
        "#Assigning LiteracyRate from df2 to lowest_literacy_rate\n",
        "lowest_literacy_rate = df4.LiteracyRate.min()\n",
        "\n",
        "#This logical argument is display the row with lowest 'LiteracyRate'.\n",
        "df4[df4['LiteracyRate'] == lowest_literacy_rate]\n",
        "\n"
      ],
      "metadata": {
        "id": "imHYYmPA4GW6"
      },
      "id": "imHYYmPA4GW6",
      "execution_count": null,
      "outputs": []
    },
    {
      "cell_type": "markdown",
      "source": [
        "* The region with the lowest literacy rates is Africa, with a rate of 31.1%\n",
        "\n",
        "\n",
        "\n",
        "\n",
        "\n"
      ],
      "metadata": {
        "id": "IrFRFVZrZA1z"
      },
      "id": "IrFRFVZrZA1z"
    },
    {
      "cell_type": "markdown",
      "source": [
        "#7. Which regions have the lowest child mortality rates?\n",
        "\n",
        "*For the child mortality rate calculation, the original dataframe was used since it the 'ChildMortality' column did not have any null values.  "
      ],
      "metadata": {
        "id": "a6St_iUa-vpC"
      },
      "id": "a6St_iUa-vpC"
    },
    {
      "cell_type": "code",
      "source": [
        "#Changing the index of the dataframe from 'Country' to 'Region'and assigning the newly indexed table to a new dataframe newly_indexed\n",
        "newly_indexed = df1.set_index('Region')\n",
        "\n",
        "#Finding the lowest value from the 'ChildMortality' column.\n",
        "newly_indexed.ChildMortality.min()\n",
        "\n",
        "#Assignning result to lowest_childmortality \n",
        "lowest_childmortality = newly_indexed.ChildMortality.min()\n",
        "\n",
        "#Comparing the list \"ChildMortality\" with the min() value in order to find and display the correct row\n",
        "newly_indexed[newly_indexed['ChildMortality'] == lowest_childmortality]\n"
      ],
      "metadata": {
        "colab": {
          "base_uri": "https://localhost:8080/",
          "height": 176
        },
        "id": "PQQsoywt_5Hm",
        "outputId": "d6c71232-d0a2-4a4c-a556-a55b5b958ab2"
      },
      "id": "PQQsoywt_5Hm",
      "execution_count": null,
      "outputs": [
        {
          "output_type": "execute_result",
          "data": {
            "text/plain": [
              "           Country  Population  Under15  Over60  FertilityRate  \\\n",
              "Region                                                           \n",
              "Europe  Luxembourg         524    17.46   19.15           1.65   \n",
              "\n",
              "        LifeExpectancy  ChildMortality  CellularSubscribers  LiteracyRate  \\\n",
              "Region                                                                      \n",
              "Europe              82             2.2               148.27           NaN   \n",
              "\n",
              "            GNI  PrimarySchoolEnrollmentMale  PrimarySchoolEnrollmentFemale  \n",
              "Region                                                                       \n",
              "Europe  64260.0                         93.6                           95.7  "
            ],
            "text/html": [
              "\n",
              "  <div id=\"df-77da6027-2e18-43ed-8a85-6e84f4aa27ff\">\n",
              "    <div class=\"colab-df-container\">\n",
              "      <div>\n",
              "<style scoped>\n",
              "    .dataframe tbody tr th:only-of-type {\n",
              "        vertical-align: middle;\n",
              "    }\n",
              "\n",
              "    .dataframe tbody tr th {\n",
              "        vertical-align: top;\n",
              "    }\n",
              "\n",
              "    .dataframe thead th {\n",
              "        text-align: right;\n",
              "    }\n",
              "</style>\n",
              "<table border=\"1\" class=\"dataframe\">\n",
              "  <thead>\n",
              "    <tr style=\"text-align: right;\">\n",
              "      <th></th>\n",
              "      <th>Country</th>\n",
              "      <th>Population</th>\n",
              "      <th>Under15</th>\n",
              "      <th>Over60</th>\n",
              "      <th>FertilityRate</th>\n",
              "      <th>LifeExpectancy</th>\n",
              "      <th>ChildMortality</th>\n",
              "      <th>CellularSubscribers</th>\n",
              "      <th>LiteracyRate</th>\n",
              "      <th>GNI</th>\n",
              "      <th>PrimarySchoolEnrollmentMale</th>\n",
              "      <th>PrimarySchoolEnrollmentFemale</th>\n",
              "    </tr>\n",
              "    <tr>\n",
              "      <th>Region</th>\n",
              "      <th></th>\n",
              "      <th></th>\n",
              "      <th></th>\n",
              "      <th></th>\n",
              "      <th></th>\n",
              "      <th></th>\n",
              "      <th></th>\n",
              "      <th></th>\n",
              "      <th></th>\n",
              "      <th></th>\n",
              "      <th></th>\n",
              "      <th></th>\n",
              "    </tr>\n",
              "  </thead>\n",
              "  <tbody>\n",
              "    <tr>\n",
              "      <th>Europe</th>\n",
              "      <td>Luxembourg</td>\n",
              "      <td>524</td>\n",
              "      <td>17.46</td>\n",
              "      <td>19.15</td>\n",
              "      <td>1.65</td>\n",
              "      <td>82</td>\n",
              "      <td>2.2</td>\n",
              "      <td>148.27</td>\n",
              "      <td>NaN</td>\n",
              "      <td>64260.0</td>\n",
              "      <td>93.6</td>\n",
              "      <td>95.7</td>\n",
              "    </tr>\n",
              "  </tbody>\n",
              "</table>\n",
              "</div>\n",
              "      <button class=\"colab-df-convert\" onclick=\"convertToInteractive('df-77da6027-2e18-43ed-8a85-6e84f4aa27ff')\"\n",
              "              title=\"Convert this dataframe to an interactive table.\"\n",
              "              style=\"display:none;\">\n",
              "        \n",
              "  <svg xmlns=\"http://www.w3.org/2000/svg\" height=\"24px\"viewBox=\"0 0 24 24\"\n",
              "       width=\"24px\">\n",
              "    <path d=\"M0 0h24v24H0V0z\" fill=\"none\"/>\n",
              "    <path d=\"M18.56 5.44l.94 2.06.94-2.06 2.06-.94-2.06-.94-.94-2.06-.94 2.06-2.06.94zm-11 1L8.5 8.5l.94-2.06 2.06-.94-2.06-.94L8.5 2.5l-.94 2.06-2.06.94zm10 10l.94 2.06.94-2.06 2.06-.94-2.06-.94-.94-2.06-.94 2.06-2.06.94z\"/><path d=\"M17.41 7.96l-1.37-1.37c-.4-.4-.92-.59-1.43-.59-.52 0-1.04.2-1.43.59L10.3 9.45l-7.72 7.72c-.78.78-.78 2.05 0 2.83L4 21.41c.39.39.9.59 1.41.59.51 0 1.02-.2 1.41-.59l7.78-7.78 2.81-2.81c.8-.78.8-2.07 0-2.86zM5.41 20L4 18.59l7.72-7.72 1.47 1.35L5.41 20z\"/>\n",
              "  </svg>\n",
              "      </button>\n",
              "      \n",
              "  <style>\n",
              "    .colab-df-container {\n",
              "      display:flex;\n",
              "      flex-wrap:wrap;\n",
              "      gap: 12px;\n",
              "    }\n",
              "\n",
              "    .colab-df-convert {\n",
              "      background-color: #E8F0FE;\n",
              "      border: none;\n",
              "      border-radius: 50%;\n",
              "      cursor: pointer;\n",
              "      display: none;\n",
              "      fill: #1967D2;\n",
              "      height: 32px;\n",
              "      padding: 0 0 0 0;\n",
              "      width: 32px;\n",
              "    }\n",
              "\n",
              "    .colab-df-convert:hover {\n",
              "      background-color: #E2EBFA;\n",
              "      box-shadow: 0px 1px 2px rgba(60, 64, 67, 0.3), 0px 1px 3px 1px rgba(60, 64, 67, 0.15);\n",
              "      fill: #174EA6;\n",
              "    }\n",
              "\n",
              "    [theme=dark] .colab-df-convert {\n",
              "      background-color: #3B4455;\n",
              "      fill: #D2E3FC;\n",
              "    }\n",
              "\n",
              "    [theme=dark] .colab-df-convert:hover {\n",
              "      background-color: #434B5C;\n",
              "      box-shadow: 0px 1px 3px 1px rgba(0, 0, 0, 0.15);\n",
              "      filter: drop-shadow(0px 1px 2px rgba(0, 0, 0, 0.3));\n",
              "      fill: #FFFFFF;\n",
              "    }\n",
              "  </style>\n",
              "\n",
              "      <script>\n",
              "        const buttonEl =\n",
              "          document.querySelector('#df-77da6027-2e18-43ed-8a85-6e84f4aa27ff button.colab-df-convert');\n",
              "        buttonEl.style.display =\n",
              "          google.colab.kernel.accessAllowed ? 'block' : 'none';\n",
              "\n",
              "        async function convertToInteractive(key) {\n",
              "          const element = document.querySelector('#df-77da6027-2e18-43ed-8a85-6e84f4aa27ff');\n",
              "          const dataTable =\n",
              "            await google.colab.kernel.invokeFunction('convertToInteractive',\n",
              "                                                     [key], {});\n",
              "          if (!dataTable) return;\n",
              "\n",
              "          const docLinkHtml = 'Like what you see? Visit the ' +\n",
              "            '<a target=\"_blank\" href=https://colab.research.google.com/notebooks/data_table.ipynb>data table notebook</a>'\n",
              "            + ' to learn more about interactive tables.';\n",
              "          element.innerHTML = '';\n",
              "          dataTable['output_type'] = 'display_data';\n",
              "          await google.colab.output.renderOutput(dataTable, element);\n",
              "          const docLink = document.createElement('div');\n",
              "          docLink.innerHTML = docLinkHtml;\n",
              "          element.appendChild(docLink);\n",
              "        }\n",
              "      </script>\n",
              "    </div>\n",
              "  </div>\n",
              "  "
            ]
          },
          "metadata": {},
          "execution_count": 58
        }
      ]
    },
    {
      "cell_type": "code",
      "source": [
        "df1.isnull().sum()"
      ],
      "metadata": {
        "colab": {
          "base_uri": "https://localhost:8080/"
        },
        "id": "Ku71AINEq0ZI",
        "outputId": "12b716e8-e85f-4d42-c2b3-92044cfc9adb"
      },
      "id": "Ku71AINEq0ZI",
      "execution_count": 69,
      "outputs": [
        {
          "output_type": "execute_result",
          "data": {
            "text/plain": [
              "Country                           0\n",
              "Region                            0\n",
              "Population                        0\n",
              "Under15                           0\n",
              "Over60                            0\n",
              "FertilityRate                    11\n",
              "LifeExpectancy                    0\n",
              "ChildMortality                    0\n",
              "CellularSubscribers              10\n",
              "LiteracyRate                     91\n",
              "GNI                              32\n",
              "PrimarySchoolEnrollmentMale      93\n",
              "PrimarySchoolEnrollmentFemale    93\n",
              "dtype: int64"
            ]
          },
          "metadata": {},
          "execution_count": 69
        }
      ]
    },
    {
      "cell_type": "markdown",
      "source": [
        "#8. What is the life expectancy across different regions? Create a box-and-whisker plot to investigate this. What can we conclude about life expectancy across different regions?"
      ],
      "metadata": {
        "id": "26HUqZI3EhUN"
      },
      "id": "26HUqZI3EhUN"
    },
    {
      "cell_type": "code",
      "source": [
        ""
      ],
      "metadata": {
        "id": "7-rkUrIJOQ67"
      },
      "id": "7-rkUrIJOQ67",
      "execution_count": null,
      "outputs": []
    },
    {
      "cell_type": "code",
      "source": [
        "#Importing the packages that will be needed to create a box-and-whisker plot.\n",
        "import seaborn as sns\n",
        "import matplotlib.pyplot as plt\n",
        "\n",
        "\n",
        "#Creating the box-and-whisker plot.\n",
        "plotbox = sns.catplot(x= \"Region\",\n",
        "                      size= 10,\n",
        "                      y= \"LifeExpectancy\", \n",
        "                      data = df1,\n",
        "                      kind=\"box\")\n",
        "#This command displays our above created box-and-whisker plot.\n",
        "plt.show()"
      ],
      "metadata": {
        "id": "Eg3o2MxjhFSH",
        "colab": {
          "base_uri": "https://localhost:8080/",
          "height": 765
        },
        "outputId": "68ee2219-776c-4422-dfe1-bace15a7709f"
      },
      "id": "Eg3o2MxjhFSH",
      "execution_count": 100,
      "outputs": [
        {
          "output_type": "stream",
          "name": "stderr",
          "text": [
            "/usr/local/lib/python3.7/dist-packages/seaborn/categorical.py:3750: UserWarning: The `size` parameter has been renamed to `height`; please update your code.\n",
            "  warnings.warn(msg, UserWarning)\n"
          ]
        },
        {
          "output_type": "display_data",
          "data": {
            "text/plain": [
              "<Figure size 720x720 with 1 Axes>"
            ],
            "image/png": "[encoded data removed]"
          },
          "metadata": {
            "needs_background": "light"
          }
        }
      ]
    },
    {
      "cell_type": "code",
      "source": [
        "df1.Region.value_counts()"
      ],
      "metadata": {
        "colab": {
          "base_uri": "https://localhost:8080/"
        },
        "id": "gmtAfMmiybXj",
        "outputId": "8c43701d-7209-4255-9c3f-5cf2810e9406"
      },
      "id": "gmtAfMmiybXj",
      "execution_count": 94,
      "outputs": [
        {
          "output_type": "execute_result",
          "data": {
            "text/plain": [
              "Europe                   53\n",
              "Africa                   46\n",
              "Americas                 35\n",
              "Western Pacific          27\n",
              "Eastern Mediterranean    22\n",
              "South-East Asia          11\n",
              "Name: Region, dtype: int64"
            ]
          },
          "metadata": {},
          "execution_count": 94
        }
      ]
    },
    {
      "cell_type": "markdown",
      "source": [
        "#9. How is life expectancy related to wealth across different regions? How is wealth related to fertility across different regions? Do these relationships hold for African countries?"
      ],
      "metadata": {
        "id": "v1xDa8OB1ZqT"
      },
      "id": "v1xDa8OB1ZqT"
    },
    {
      "cell_type": "code",
      "source": [
        "df1.isnull().sum()"
      ],
      "metadata": {
        "id": "-rXqembC2hN-"
      },
      "id": "-rXqembC2hN-",
      "execution_count": null,
      "outputs": []
    },
    {
      "cell_type": "markdown",
      "source": [
        "* Since some of the columns that we have to work with have null values, I created a new dataframe, whereby the null values were filled with different mean values from their respective columns.\n",
        "\n",
        "\n",
        "\n",
        "How is life expectancy related to wealth? "
      ],
      "metadata": {
        "id": "A0f4C-nn7FGV"
      },
      "id": "A0f4C-nn7FGV"
    },
    {
      "cell_type": "code",
      "source": [
        "#Filling the null values with the mean and then assigning the new dataframe to dfmean \n",
        "dfmean = df1.fillna(value = df1.mean())\n",
        "\n",
        "#Determining the relationship between life expectancy and wealth across different regions\n",
        "dfmean['LifeExpectancy'].corr(dfmean['GNI'])\n"
      ],
      "metadata": {
        "colab": {
          "base_uri": "https://localhost:8080/"
        },
        "id": "-hlR5HQ28Jut",
        "outputId": "54c591a0-4020-4f6e-f26f-43f7cbd7f075"
      },
      "id": "-hlR5HQ28Jut",
      "execution_count": 105,
      "outputs": [
        {
          "output_type": "stream",
          "name": "stderr",
          "text": [
            "/usr/local/lib/python3.7/dist-packages/ipykernel_launcher.py:1: FutureWarning: Dropping of nuisance columns in DataFrame reductions (with 'numeric_only=None') is deprecated; in a future version this will raise TypeError.  Select only valid columns before calling the reduction.\n",
            "  \"\"\"Entry point for launching an IPython kernel.\n"
          ]
        },
        {
          "output_type": "execute_result",
          "data": {
            "text/plain": [
              "0.6103444758749542"
            ]
          },
          "metadata": {},
          "execution_count": 105
        }
      ]
    },
    {
      "cell_type": "markdown",
      "source": [
        "* From the above calculation we can note that 'LifeExpectancy' and 'GNI' have a positive correlation of **0.6103444758749542**. \n",
        "* Meaning that it is more likely for an individual to have a higher life expectancy, the more wealth is accumulated. "
      ],
      "metadata": {
        "id": "1hWDhP-i-Wva"
      },
      "id": "1hWDhP-i-Wva"
    },
    {
      "cell_type": "code",
      "source": [
        "#Filling the null values with the mean and then assigning the new dataframe to dfmean \n",
        "dfmean = df1.fillna(value= df1.mean())\n",
        "\n",
        "#Determining the relationship between wealth and fertility different regions.\n",
        "dfmean['GNI'].corr(dfmean['FertilityRate'])"
      ],
      "metadata": {
        "colab": {
          "base_uri": "https://localhost:8080/"
        },
        "id": "mcWZH5Et_qVw",
        "outputId": "5e51eb85-fa3c-4309-d98f-9e3515369781"
      },
      "id": "mcWZH5Et_qVw",
      "execution_count": 112,
      "outputs": [
        {
          "output_type": "stream",
          "name": "stderr",
          "text": [
            "/usr/local/lib/python3.7/dist-packages/ipykernel_launcher.py:2: FutureWarning: Dropping of nuisance columns in DataFrame reductions (with 'numeric_only=None') is deprecated; in a future version this will raise TypeError.  Select only valid columns before calling the reduction.\n",
            "  \n"
          ]
        },
        {
          "output_type": "execute_result",
          "data": {
            "text/plain": [
              "-0.5152729295055448"
            ]
          },
          "metadata": {},
          "execution_count": 112
        }
      ]
    },
    {
      "cell_type": "markdown",
      "source": [
        "* Based on the output of our code, wealth known as 'GNI' and 'FertilityRate' have a negatively correlated relationship of **-0.5152729295055448** "
      ],
      "metadata": {
        "id": "W4ACCAu8BXIc"
      },
      "id": "W4ACCAu8BXIc"
    },
    {
      "cell_type": "markdown",
      "source": [
        "#Do these relationships hold for African countries?\n",
        "\n",
        "The following section displays the relationship between life expectancy and wealth, then further between wealth and fertility, for countries located in Africa.\n",
        "\n",
        "\n",
        "\n",
        "# The relationship between life expectancy and wealth within the Africa region."
      ],
      "metadata": {
        "id": "scIPdL5ZcwYj"
      },
      "id": "scIPdL5ZcwYj"
    },
    {
      "cell_type": "code",
      "source": [
        "#filling the original dataframe with mean() values and assigning the new dataframe named dfmean\n",
        "dfmean = df1.fillna(value= df1.mean())\n",
        "\n",
        "#Isolating rows that have Africa, in order to get African countries on to a new dataframe called Afr_df\n",
        "Afr_df = dfmean[dfmean['Region'] == 'Africa']\n",
        "\n",
        "#Here with the new dataframe Afr_df, we calculated the correlation between life expectancy and wealth within the African region.\n",
        "Afr_df['LifeExpectancy'].corr(Afr_df['GNI'])\n"
      ],
      "metadata": {
        "colab": {
          "base_uri": "https://localhost:8080/"
        },
        "id": "TvM9ijZRGQDN",
        "outputId": "dfedc9d7-3d32-4986-e322-b20e03c2b8c6"
      },
      "id": "TvM9ijZRGQDN",
      "execution_count": 126,
      "outputs": [
        {
          "output_type": "stream",
          "name": "stderr",
          "text": [
            "/usr/local/lib/python3.7/dist-packages/ipykernel_launcher.py:2: FutureWarning: Dropping of nuisance columns in DataFrame reductions (with 'numeric_only=None') is deprecated; in a future version this will raise TypeError.  Select only valid columns before calling the reduction.\n",
            "  \n"
          ]
        },
        {
          "output_type": "execute_result",
          "data": {
            "text/plain": [
              "0.40208144968663106"
            ]
          },
          "metadata": {},
          "execution_count": 126
        }
      ]
    },
    {
      "cell_type": "markdown",
      "source": [
        "* The relationship between life expectancy and wealth within the Africa region is positively correlated, with a value of **0.40208144968663106**"
      ],
      "metadata": {
        "id": "pZLacDysk-G5"
      },
      "id": "pZLacDysk-G5"
    },
    {
      "cell_type": "markdown",
      "source": [
        "#The relationship between wealth and fertility, within the African region."
      ],
      "metadata": {
        "id": "ktCdkJE1j_XS"
      },
      "id": "ktCdkJE1j_XS"
    },
    {
      "cell_type": "code",
      "source": [
        "#The followiing code was complted under the assumption that dfmean and Afr_df dataframes were already loaded.\n",
        "\n",
        "#Calculating the correlation between wealth and fertility within the Africa region.\n",
        "Afr_df['GNI'].corr(Afr_df['FertilityRate'])\n"
      ],
      "metadata": {
        "colab": {
          "base_uri": "https://localhost:8080/"
        },
        "id": "eyaMIpjVfvKK",
        "outputId": "9566b44f-3c4a-4fd6-915e-49710b69b1fe"
      },
      "id": "eyaMIpjVfvKK",
      "execution_count": 134,
      "outputs": [
        {
          "output_type": "execute_result",
          "data": {
            "text/plain": [
              "-0.5548900049712493"
            ]
          },
          "metadata": {},
          "execution_count": 134
        }
      ]
    },
    {
      "cell_type": "markdown",
      "source": [
        "Wealth known as 'GNI' and 'FertilityRate' within the Africa region have a negatively correlated relationship of **-0.5548900049712493**"
      ],
      "metadata": {
        "id": "x_1fHM_Jloxg"
      },
      "id": "x_1fHM_Jloxg"
    },
    {
      "cell_type": "markdown",
      "source": [
        "#In conclusion, "
      ],
      "metadata": {
        "id": "HoZoAuwtmS0P"
      },
      "id": "HoZoAuwtmS0P"
    }
  ],
  "metadata": {
    "kernelspec": {
      "display_name": "Python 3",
      "language": "python",
      "name": "python3"
    },
    "language_info": {
      "codemirror_mode": {
        "name": "ipython",
        "version": 3
      },
      "file_extension": ".py",
      "mimetype": "text/x-python",
      "name": "python",
      "nbconvert_exporter": "python",
      "pygments_lexer": "ipython3",
      "version": "3.8.5"
    },
    "colab": {
      "name": "notebook.ipynb",
      "provenance": [],
      "collapsed_sections": [],
      "include_colab_link": true
    }
  },
  "nbformat": 4,
  "nbformat_minor": 5
}